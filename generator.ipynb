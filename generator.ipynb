{
 "cells": [
  {
   "cell_type": "markdown",
   "metadata": {},
   "source": [
    "# Glossary Generator"
   ]
  },
  {
   "cell_type": "markdown",
   "metadata": {},
   "source": [
    "即兴想起来就写了，主要目的是配合英语学习的透析阅读法使用，什么叫透析阅读法请自行搜索。\n",
    "\n",
    "程序比较简单，简单地说，就是：\n",
    "1. 读取一本小说的文本，干掉复数、时态这些东西，得到一本小说的词汇表；\n",
    "2. 去掉认识和不常用的词，生成不认识且高频的单词表。\n",
    "\n",
    "生词表生成后可导入欧陆词典一类的app，快速预习一下，可以大幅提升阅读原版书籍时的体验。"
   ]
  },
  {
   "cell_type": "code",
   "execution_count": null,
   "metadata": {},
   "outputs": [],
   "source": [
    "import os, re\n",
    "import nltk, string\n",
    "import collections\n",
    "import textract\n",
    "\n",
    "from nltk.stem.porter import PorterStemmer\n",
    "porter_stemmer = PorterStemmer()"
   ]
  },
  {
   "cell_type": "markdown",
   "metadata": {},
   "source": [
    "## 1. 读取文档\n",
    "目前支持txt/pdf/doc/docx/csv/epub格式，扫描版的PDF不行，只能是文字版的。\n",
    "\n",
    "除了txt外，其他格式读取时花的时间会长一点，请耐心等待。"
   ]
  },
  {
   "cell_type": "code",
   "execution_count": null,
   "metadata": {},
   "outputs": [],
   "source": [
    "# filename = 'pride_and_prejudice.txt' \n",
    "#filename = os.path.join('input-book','The One Minute Manager_Kenneth H. Blanchard_1983.epub' )\n",
    "filename = os.path.join('/home/zhangfeng/Nutstore Files/Apps/Books','Rich Dad Poor Dad_Robert T. Kiyosaki_2015.epub')"
   ]
  },
  {
   "cell_type": "markdown",
   "metadata": {},
   "source": [
    "读取文本，去掉标点符号。"
   ]
  },
  {
   "cell_type": "code",
   "execution_count": null,
   "metadata": {
    "scrolled": true
   },
   "outputs": [],
   "source": [
    "byte = textract.process(filename)\n",
    "text = byte.decode(\"utf-8\").replace('\\n', ' ')\n",
    "text = text.replace('—', '').replace('.', '')\n",
    "text.translate(str.maketrans('', '', string.punctuation))"
   ]
  },
  {
   "cell_type": "markdown",
   "metadata": {},
   "source": [
    "## 2. 切割和统计词干\n",
    "获取单词\n",
    "抽取词干或词根形式且转成小写\n",
    "获取排名在1000以后且频率在3以上的词干\n"
   ]
  },
  {
   "cell_type": "code",
   "execution_count": null,
   "metadata": {},
   "outputs": [],
   "source": [
    "nltk_tokens = nltk.word_tokenize(text) # 切割成单词\n",
    "stems = [porter_stemmer.stem(w) for w in nltk_tokens] # 抽取词的词干或词根形式且转成小写"
   ]
  },
  {
   "cell_type": "code",
   "execution_count": null,
   "metadata": {},
   "outputs": [],
   "source": [
    "stem_count = collections.Counter(stems)\n",
    "stem_count = sorted(stem_count.items(), key=lambda pair: pair[1], reverse=True)"
   ]
  },
  {
   "cell_type": "code",
   "execution_count": null,
   "metadata": {},
   "outputs": [],
   "source": [
    "clean_stem = [pair[0] for pair in stem_count if pair[1]>=3 and pair[1] <=10]\n",
    "len(clean_stem)"
   ]
  },
  {
   "cell_type": "code",
   "execution_count": null,
   "metadata": {},
   "outputs": [],
   "source": [
    "clean_stem"
   ]
  },
  {
   "cell_type": "markdown",
   "metadata": {},
   "source": [
    "## 3. 去除熟悉单词\n",
    "\n",
    "- 柯林斯词典词频: Collins的词库里只有14000-15000单词，但我测试的效果似乎比COCA好一些。大家可以自己更改文件名，看看自己哪一个更合适。\n",
    "- 自已建立熟词库:"
   ]
  },
  {
   "cell_type": "code",
   "execution_count": null,
   "metadata": {},
   "outputs": [],
   "source": [
    "known_filename = \"my_vocabulary.txt\" \n",
    "unknown_filename = 'common30k.txt'\n",
    "\n",
    "known_word = open(known_filename, 'r', encoding='utf-8').read().replace('\\n', ' ').split(' ')\n",
    "unknown_word = open(unknown_filename, 'r', encoding='utf-8').read().replace('\\n', ' ').split(' ')"
   ]
  },
  {
   "cell_type": "markdown",
   "metadata": {},
   "source": [
    "将词干和熟词库比较，去除熟词。将词干与词库比较，获取单词原形。"
   ]
  },
  {
   "cell_type": "code",
   "execution_count": null,
   "metadata": {},
   "outputs": [],
   "source": [
    "# 删除认识的词干\n",
    "known_stem = [s for s in clean_stem for w in known_word if s in w]\n",
    "clean_stem = set(clean_stem).difference(set(known_stem))\n",
    "len(clean_stem)"
   ]
  },
  {
   "cell_type": "code",
   "execution_count": null,
   "metadata": {},
   "outputs": [],
   "source": [
    "new_word = list()\n",
    "for s in clean_stem:\n",
    "    for w in unknown_word:\n",
    "        if re.match(s,w):\n",
    "            new_word.append(w)\n",
    "            break\n",
    "new_word = set(new_word)\n",
    "len(new_word)"
   ]
  },
  {
   "cell_type": "code",
   "execution_count": null,
   "metadata": {},
   "outputs": [],
   "source": [
    "glossary = os.path.join('output-txt',os.path.basename(filename).split('.')[0] + '_glossary.txt')\n",
    "with open(glossary, 'w') as output:\n",
    "    output.write('\\n'.join(new_word))"
   ]
  },
  {
   "cell_type": "markdown",
   "metadata": {},
   "source": [
    "## 4. 将已经背熟的单词加入熟词库"
   ]
  },
  {
   "cell_type": "code",
   "execution_count": null,
   "metadata": {},
   "outputs": [],
   "source": [
    "! wc -l my_vocabulary.txt\n",
    "! cat file >> my_vocabulary.txt \n",
    "! wc -l my_vocabulary.txt"
   ]
  }
 ],
 "metadata": {
  "kernelspec": {
   "display_name": "Python 3 (ipykernel)",
   "language": "python",
   "name": "python3"
  },
  "language_info": {
   "codemirror_mode": {
    "name": "ipython",
    "version": 3
   },
   "file_extension": ".py",
   "mimetype": "text/x-python",
   "name": "python",
   "nbconvert_exporter": "python",
   "pygments_lexer": "ipython3",
   "version": "3.9.13"
  }
 },
 "nbformat": 4,
 "nbformat_minor": 4
}
