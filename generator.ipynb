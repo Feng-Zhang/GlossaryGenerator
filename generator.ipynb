{
 "cells": [
  {
   "cell_type": "markdown",
   "metadata": {},
   "source": [
    "# Glossary Generator"
   ]
  },
  {
   "cell_type": "markdown",
   "metadata": {},
   "source": [
    "即兴想起来就写了，主要目的是配合英语学习的透析阅读法使用，什么叫透析阅读法请自行搜索。\n",
    "\n",
    "程序比较简单，简单地说，就是：\n",
    "1. 读取一本小说的文本，干掉复数、时态这些东西，得到一本小说的词汇表；\n",
    "2. 去掉认识和不常用的词，生成不认识且高频的单词表。\n",
    "\n",
    "生词表生成后可导入欧陆词典一类的app，快速预习一下，可以大幅提升阅读原版书籍时的体验。"
   ]
  },
  {
   "cell_type": "code",
   "execution_count": null,
   "metadata": {},
   "outputs": [],
   "source": [
    "import os, nltk\n",
    "import string\n",
    "import collections\n",
    "import textract\n",
    "\n",
    "from nltk.stem.porter import PorterStemmer\n",
    "porter_stemmer = PorterStemmer()"
   ]
  },
  {
   "cell_type": "markdown",
   "metadata": {},
   "source": [
    "## 1. 读取文档\n",
    "目前支持txt/pdf/doc/docx/csv/epub格式，扫描版的PDF不行，只能是文字版的。\n",
    "\n",
    "除了txt外，其他格式读取时花的时间会长一点，请耐心等待。"
   ]
  },
  {
   "cell_type": "code",
   "execution_count": null,
   "metadata": {},
   "outputs": [],
   "source": [
    "filename = 'pride_and_prejudice.txt' "
   ]
  },
  {
   "cell_type": "markdown",
   "metadata": {},
   "source": [
    "读取文本，去掉标点符号。"
   ]
  },
  {
   "cell_type": "code",
   "execution_count": null,
   "metadata": {
    "scrolled": true
   },
   "outputs": [],
   "source": [
    "byte = textract.process(filename)\n",
    "text = byte.decode(\"utf-8\").replace('\\n', ' ')\n",
    "text = text.replace('—', '').replace('.', '')\n",
    "text.translate(str.maketrans('', '', string.punctuation))"
   ]
  },
  {
   "cell_type": "markdown",
   "metadata": {},
   "source": [
    "## 2. 切割和统计单词\n",
    "获取单词\n",
    "抽取词干或词根形式且转成小写\n",
    "获取排名在1000以后且频率在3以上的单词\n"
   ]
  },
  {
   "cell_type": "code",
   "execution_count": null,
   "metadata": {},
   "outputs": [],
   "source": [
    "nltk_tokens = nltk.word_tokenize(text) # 切割成单词\n",
    "words = [porter_stemmer.stem(w) for w in nltk_tokens] # 抽取词的词干或词根形式且转成小写"
   ]
  },
  {
   "cell_type": "code",
   "execution_count": null,
   "metadata": {},
   "outputs": [],
   "source": [
    "word_count = collections.Counter(words)\n",
    "word_count = sorted(word_count.items(), key=lambda pair: pair[1], reverse=True)"
   ]
  },
  {
   "cell_type": "code",
   "execution_count": null,
   "metadata": {},
   "outputs": [],
   "source": [
    "clean_words = [pair[0] for pair in word_count[1001:] if pair[1]>=3]\n",
    "len(clean_words)"
   ]
  },
  {
   "cell_type": "markdown",
   "metadata": {},
   "source": [
    "## 3. 去除熟悉单词\n",
    "\n",
    "- 柯林斯词典词频: Collins的词库里只有14000-15000单词，但我测试的效果似乎比COCA好一些。大家可以自己更改文件名，看看自己哪一个更合适。\n",
    "- 自已建立熟词库:和自"
   ]
  },
  {
   "cell_type": "markdown",
   "metadata": {},
   "source": [
    "\n"
   ]
  },
  {
   "cell_type": "code",
   "execution_count": null,
   "metadata": {},
   "outputs": [],
   "source": [
    "dict_filename = \"my_vocabulary.txt\" if os.path.exists('my_vocabulary.txt') else 'common30k.txt'\n",
    "\n",
    "dict_words = open(dict_filename, 'r', encoding='utf-8').read().replace('\\n', ' ').split(' ')\n",
    "if dict_filename=='common30k.txt':\n",
    "    dict_words = dict_words[8001:]\n"
   ]
  },
  {
   "cell_type": "markdown",
   "metadata": {},
   "source": [
    "我附的高频词表是顺序的，即高频词在前，低频词在后。比对时我去掉了前面的8000常用词，如果你觉得自己词汇量低，可以考虑只去掉5000；反之亦然。"
   ]
  },
  {
   "cell_type": "code",
   "execution_count": null,
   "metadata": {},
   "outputs": [],
   "source": [
    "new_words = [w for w in clean_words if w in dict_words]\n",
    "len(new_words)"
   ]
  },
  {
   "cell_type": "markdown",
   "metadata": {},
   "source": [
    "这个词表里肯定有很多还是你认识的，不过我觉得在生词本里过一遍（尤其是欧陆提供很多例句）看看怎么用还是有帮助的。如果认识的词特别多，请返回上面一步干掉更多高频词。我个人的小经验是阅读生词量在10%左右的小说学习+阅读体验比较好。\n",
    "\n",
    "也可以考虑使用其他词频库来对比，比如Collins词频表。"
   ]
  },
  {
   "cell_type": "code",
   "execution_count": null,
   "metadata": {},
   "outputs": [],
   "source": [
    "glossary = filename.split('.')[0] + '_glossary.txt'\n",
    "with open(glossary, 'w') as output:\n",
    "    output.write('\\n'.join(new_words))"
   ]
  },
  {
   "cell_type": "markdown",
   "metadata": {},
   "source": [
    "## 4. 将已经背熟的单词加入熟词库"
   ]
  }
 ],
 "metadata": {
  "kernelspec": {
   "display_name": "Python 3 (ipykernel)",
   "language": "python",
   "name": "python3"
  },
  "language_info": {
   "codemirror_mode": {
    "name": "ipython",
    "version": 3
   },
   "file_extension": ".py",
   "mimetype": "text/x-python",
   "name": "python",
   "nbconvert_exporter": "python",
   "pygments_lexer": "ipython3",
   "version": "3.9.13"
  }
 },
 "nbformat": 4,
 "nbformat_minor": 4
}
